{
 "cells": [
  {
   "cell_type": "code",
   "execution_count": 19,
   "id": "28d76839",
   "metadata": {},
   "outputs": [],
   "source": [
    "import os\n",
    "import pandas as pd\n",
    "import numpy as np"
   ]
  },
  {
   "cell_type": "code",
   "execution_count": 7,
   "id": "44a8ac65",
   "metadata": {},
   "outputs": [
    {
     "data": {
      "text/plain": [
       "'C:\\\\Users\\\\runek\\\\Documents'"
      ]
     },
     "execution_count": 7,
     "metadata": {},
     "output_type": "execute_result"
    }
   ],
   "source": [
    "os.getcwd()"
   ]
  },
  {
   "cell_type": "code",
   "execution_count": 10,
   "id": "af1b4d8c",
   "metadata": {},
   "outputs": [],
   "source": [
    "os.chdir('C:/Users/runek/Kaggle_Competitions/Goodreads')"
   ]
  },
  {
   "cell_type": "code",
   "execution_count": 49,
   "id": "3f61e1f8",
   "metadata": {},
   "outputs": [],
   "source": [
    "# read Goodreads train set and set it to dataframe\n",
    "goodreads_df = pd.read_csv(r'C:\\Users\\runek\\Kaggle_Competitions\\Goodreads\\goodreads_train.csv')"
   ]
  },
  {
   "cell_type": "code",
   "execution_count": 33,
   "id": "c332723e",
   "metadata": {},
   "outputs": [
    {
     "data": {
      "text/plain": [
       "Index(['user_id', 'book_id', 'review_id', 'rating', 'review_text',\n",
       "       'date_added', 'date_updated', 'read_at', 'started_at', 'n_votes',\n",
       "       'n_comments'],\n",
       "      dtype='object')"
      ]
     },
     "execution_count": 33,
     "metadata": {},
     "output_type": "execute_result"
    }
   ],
   "source": [
    "# view the column names\n",
    "goodreads_df.columns"
   ]
  },
  {
   "cell_type": "code",
   "execution_count": 34,
   "id": "279eaa7a",
   "metadata": {},
   "outputs": [
    {
     "data": {
      "text/plain": [
       "900000"
      ]
     },
     "execution_count": 34,
     "metadata": {},
     "output_type": "execute_result"
    }
   ],
   "source": [
    "# check the number of rows that exist for column review_text\n",
    "goodreads_df['review_text'].count()"
   ]
  },
  {
   "cell_type": "code",
   "execution_count": 35,
   "id": "dbe9d89b",
   "metadata": {},
   "outputs": [
    {
     "data": {
      "text/plain": [
       "284493"
      ]
     },
     "execution_count": 35,
     "metadata": {},
     "output_type": "execute_result"
    }
   ],
   "source": [
    "# check the number of rows with blank entries for column review_text\n",
    "goodreads_df.isnull().any(axis=1).sum()"
   ]
  },
  {
   "cell_type": "code",
   "execution_count": 50,
   "id": "4cd0aadd",
   "metadata": {},
   "outputs": [],
   "source": [
    "# remove all blanks (particularly from review_text)\n",
    "goodreads_df = goodreads_df.dropna()"
   ]
  },
  {
   "cell_type": "code",
   "execution_count": 102,
   "id": "c2ad3670",
   "metadata": {},
   "outputs": [
    {
     "data": {
      "text/plain": [
       "615507"
      ]
     },
     "execution_count": 102,
     "metadata": {},
     "output_type": "execute_result"
    }
   ],
   "source": [
    "# check count again, and see that it is less than before (blank reviews have been removed)\n",
    "goodreads_df['review_text'].count()"
   ]
  },
  {
   "cell_type": "code",
   "execution_count": 111,
   "id": "23ea22c6",
   "metadata": {},
   "outputs": [
    {
     "data": {
      "text/html": [
       "<div>\n",
       "<style scoped>\n",
       "    .dataframe tbody tr th:only-of-type {\n",
       "        vertical-align: middle;\n",
       "    }\n",
       "\n",
       "    .dataframe tbody tr th {\n",
       "        vertical-align: top;\n",
       "    }\n",
       "\n",
       "    .dataframe thead th {\n",
       "        text-align: right;\n",
       "    }\n",
       "</style>\n",
       "<table border=\"1\" class=\"dataframe\">\n",
       "  <thead>\n",
       "    <tr style=\"text-align: right;\">\n",
       "      <th></th>\n",
       "      <th>user_id</th>\n",
       "      <th>book_id</th>\n",
       "      <th>review_id</th>\n",
       "      <th>rating</th>\n",
       "      <th>review_text</th>\n",
       "      <th>date_added</th>\n",
       "      <th>date_updated</th>\n",
       "      <th>read_at</th>\n",
       "      <th>started_at</th>\n",
       "      <th>n_votes</th>\n",
       "      <th>n_comments</th>\n",
       "      <th>positive_words</th>\n",
       "      <th>negative_words</th>\n",
       "      <th>overall</th>\n",
       "    </tr>\n",
       "  </thead>\n",
       "  <tbody>\n",
       "    <tr>\n",
       "      <th>0</th>\n",
       "      <td>8842281e1d1347389f2ab93d60773d4d</td>\n",
       "      <td>18245960</td>\n",
       "      <td>dfdbb7b0eb5a7e4c26d59a937e2e5feb</td>\n",
       "      <td>5</td>\n",
       "      <td>[This, is, a, special, book, ., It, started, s...</td>\n",
       "      <td>Sun Jul 30 07:44:10 -0700 2017</td>\n",
       "      <td>Wed Aug 30 00:00:26 -0700 2017</td>\n",
       "      <td>Sat Aug 26 12:05:52 -0700 2017</td>\n",
       "      <td>Tue Aug 15 13:23:18 -0700 2017</td>\n",
       "      <td>28</td>\n",
       "      <td>1</td>\n",
       "      <td>1</td>\n",
       "      <td>0</td>\n",
       "      <td>positive</td>\n",
       "    </tr>\n",
       "    <tr>\n",
       "      <th>2</th>\n",
       "      <td>8842281e1d1347389f2ab93d60773d4d</td>\n",
       "      <td>28684704</td>\n",
       "      <td>2ede853b14dc4583f96cf5d120af636f</td>\n",
       "      <td>3</td>\n",
       "      <td>[A, fun, ,, fast, paced, science, fiction, thr...</td>\n",
       "      <td>Tue Nov 15 11:29:22 -0800 2016</td>\n",
       "      <td>Mon Mar 20 23:40:27 -0700 2017</td>\n",
       "      <td>Sat Mar 18 23:22:42 -0700 2017</td>\n",
       "      <td>Fri Mar 17 23:45:40 -0700 2017</td>\n",
       "      <td>22</td>\n",
       "      <td>0</td>\n",
       "      <td>0</td>\n",
       "      <td>0</td>\n",
       "      <td>neutral</td>\n",
       "    </tr>\n",
       "    <tr>\n",
       "      <th>4</th>\n",
       "      <td>8842281e1d1347389f2ab93d60773d4d</td>\n",
       "      <td>25884323</td>\n",
       "      <td>332732725863131279a8e345b63ac33e</td>\n",
       "      <td>4</td>\n",
       "      <td>[I, really, enjoyed, this, book, ,, and, there...</td>\n",
       "      <td>Mon Apr 25 09:31:23 -0700 2016</td>\n",
       "      <td>Mon Apr 25 09:31:23 -0700 2016</td>\n",
       "      <td>Sun Jun 26 00:00:00 -0700 2016</td>\n",
       "      <td>Sat May 28 00:00:00 -0700 2016</td>\n",
       "      <td>9</td>\n",
       "      <td>1</td>\n",
       "      <td>1</td>\n",
       "      <td>0</td>\n",
       "      <td>positive</td>\n",
       "    </tr>\n",
       "    <tr>\n",
       "      <th>5</th>\n",
       "      <td>8842281e1d1347389f2ab93d60773d4d</td>\n",
       "      <td>19398490</td>\n",
       "      <td>ea4a220b10e6b5c796dae0e3b970aff1</td>\n",
       "      <td>4</td>\n",
       "      <td>[A, beautiful, story, ., It, is, rare, to, enc...</td>\n",
       "      <td>Sun Jan 03 21:20:46 -0800 2016</td>\n",
       "      <td>Tue Sep 20 23:30:15 -0700 2016</td>\n",
       "      <td>Tue Sep 13 11:51:51 -0700 2016</td>\n",
       "      <td>Sat Aug 20 07:03:03 -0700 2016</td>\n",
       "      <td>35</td>\n",
       "      <td>5</td>\n",
       "      <td>2</td>\n",
       "      <td>0</td>\n",
       "      <td>positive</td>\n",
       "    </tr>\n",
       "    <tr>\n",
       "      <th>6</th>\n",
       "      <td>8842281e1d1347389f2ab93d60773d4d</td>\n",
       "      <td>22318578</td>\n",
       "      <td>5fe9882bfe4b0520a322820c4c55747d</td>\n",
       "      <td>5</td>\n",
       "      <td>[5, stars, for, giving, me, a, better, framewo...</td>\n",
       "      <td>Sun Jun 07 12:50:13 -0700 2015</td>\n",
       "      <td>Wed Mar 22 11:36:58 -0700 2017</td>\n",
       "      <td>Sun Aug 09 00:00:00 -0700 2015</td>\n",
       "      <td>Sun Jun 07 00:00:00 -0700 2015</td>\n",
       "      <td>24</td>\n",
       "      <td>3</td>\n",
       "      <td>0</td>\n",
       "      <td>0</td>\n",
       "      <td>neutral</td>\n",
       "    </tr>\n",
       "  </tbody>\n",
       "</table>\n",
       "</div>"
      ],
      "text/plain": [
       "                            user_id   book_id  \\\n",
       "0  8842281e1d1347389f2ab93d60773d4d  18245960   \n",
       "2  8842281e1d1347389f2ab93d60773d4d  28684704   \n",
       "4  8842281e1d1347389f2ab93d60773d4d  25884323   \n",
       "5  8842281e1d1347389f2ab93d60773d4d  19398490   \n",
       "6  8842281e1d1347389f2ab93d60773d4d  22318578   \n",
       "\n",
       "                          review_id  rating  \\\n",
       "0  dfdbb7b0eb5a7e4c26d59a937e2e5feb       5   \n",
       "2  2ede853b14dc4583f96cf5d120af636f       3   \n",
       "4  332732725863131279a8e345b63ac33e       4   \n",
       "5  ea4a220b10e6b5c796dae0e3b970aff1       4   \n",
       "6  5fe9882bfe4b0520a322820c4c55747d       5   \n",
       "\n",
       "                                         review_text  \\\n",
       "0  [This, is, a, special, book, ., It, started, s...   \n",
       "2  [A, fun, ,, fast, paced, science, fiction, thr...   \n",
       "4  [I, really, enjoyed, this, book, ,, and, there...   \n",
       "5  [A, beautiful, story, ., It, is, rare, to, enc...   \n",
       "6  [5, stars, for, giving, me, a, better, framewo...   \n",
       "\n",
       "                       date_added                    date_updated  \\\n",
       "0  Sun Jul 30 07:44:10 -0700 2017  Wed Aug 30 00:00:26 -0700 2017   \n",
       "2  Tue Nov 15 11:29:22 -0800 2016  Mon Mar 20 23:40:27 -0700 2017   \n",
       "4  Mon Apr 25 09:31:23 -0700 2016  Mon Apr 25 09:31:23 -0700 2016   \n",
       "5  Sun Jan 03 21:20:46 -0800 2016  Tue Sep 20 23:30:15 -0700 2016   \n",
       "6  Sun Jun 07 12:50:13 -0700 2015  Wed Mar 22 11:36:58 -0700 2017   \n",
       "\n",
       "                          read_at                      started_at  n_votes  \\\n",
       "0  Sat Aug 26 12:05:52 -0700 2017  Tue Aug 15 13:23:18 -0700 2017       28   \n",
       "2  Sat Mar 18 23:22:42 -0700 2017  Fri Mar 17 23:45:40 -0700 2017       22   \n",
       "4  Sun Jun 26 00:00:00 -0700 2016  Sat May 28 00:00:00 -0700 2016        9   \n",
       "5  Tue Sep 13 11:51:51 -0700 2016  Sat Aug 20 07:03:03 -0700 2016       35   \n",
       "6  Sun Aug 09 00:00:00 -0700 2015  Sun Jun 07 00:00:00 -0700 2015       24   \n",
       "\n",
       "   n_comments  positive_words  negative_words   overall  \n",
       "0           1               1               0  positive  \n",
       "2           0               0               0   neutral  \n",
       "4           1               1               0  positive  \n",
       "5           5               2               0  positive  \n",
       "6           3               0               0   neutral  "
      ]
     },
     "execution_count": 111,
     "metadata": {},
     "output_type": "execute_result"
    }
   ],
   "source": [
    "goodreads_df.head()"
   ]
  },
  {
   "cell_type": "code",
   "execution_count": 52,
   "id": "b87d4a92",
   "metadata": {},
   "outputs": [],
   "source": [
    "goodreads_df2 = goodreads_df\n",
    "\n",
    "positive_words = ['good', 'great', 'fantastic', 'awesome', 'thrilling', 'spell-binding', \"coudn't put it down\"] \n",
    "negative_words = ['terrible','bad','awful', 'boring', 'badly written', 'sucks', 'stinks']\n",
    "\n",
    "goodreads_df2['positive_words'] = goodreads_df2['review_text'].str.count('|'.join(positive_words))\n",
    "goodreads_df2['negative_words'] = goodreads_df2['review_text'].str.count('|'.join(negative_words))\n",
    "\n",
    "conditions = [\n",
    "(goodreads_df['positive_words'] > goodreads_df2['negative_words']),\n",
    "(goodreads_df['negative_words'] > goodreads_df2['positive_words']),\n",
    "(goodreads_df['negative_words'] == goodreads_df2['positive_words'])\n",
    "]\n",
    "\n",
    "choices = [\n",
    "'positive',\n",
    "'negative',\n",
    "'neutral'\n",
    "]\n",
    "\n",
    "goodreads_df2['overall'] = np.select(conditions, choices, default = '')\n",
    "\n",
    "# goodreads_df2"
   ]
  },
  {
   "cell_type": "code",
   "execution_count": 53,
   "id": "ec26ccae",
   "metadata": {},
   "outputs": [
    {
     "data": {
      "text/plain": [
       "Index(['user_id', 'book_id', 'review_id', 'rating', 'review_text',\n",
       "       'date_added', 'date_updated', 'read_at', 'started_at', 'n_votes',\n",
       "       'n_comments', 'positive_words', 'negative_words', 'overall'],\n",
       "      dtype='object')"
      ]
     },
     "execution_count": 53,
     "metadata": {},
     "output_type": "execute_result"
    }
   ],
   "source": [
    "goodreads_df2.columns"
   ]
  },
  {
   "cell_type": "code",
   "execution_count": 120,
   "id": "e0af3c2c",
   "metadata": {},
   "outputs": [],
   "source": [
    "df1 = goodreads_df.iloc[:14000]\n",
    "df2 = goodreads_df.iloc[14000:28000]\n",
    "df3 = goodreads_df.iloc[28000:42000]\n",
    "df4 = goodreads_df.iloc[42000:56000]\n",
    "df5 = goodreads_df.iloc[56000:70000]\n",
    "df6 = goodreads_df.iloc[70000:84000]\n",
    "df7 = goodreads_df.iloc[84000:98000]\n",
    "df8 = goodreads_df.iloc[98000:112000]\n",
    "df9 = goodreads_df.iloc[112000:126000]\n",
    "df10 = goodreads_df.iloc[126000:140000]\n",
    "df11 = goodreads_df.iloc[140000:154000]\n",
    "df12 = goodreads_df.iloc[154000:168000]\n",
    "df13 = goodreads_df.iloc[168000:182000]\n",
    "df14 = goodreads_df.iloc[182000:196000]\n",
    "df15 = goodreads_df.iloc[196000:210000]\n",
    "df16 = goodreads_df.iloc[21000:224000]\n",
    "df17 = goodreads_df.iloc[224000:238000]\n",
    "df18 = goodreads_df.iloc[238000:252000]\n",
    "df19 = goodreads_df.iloc[252000:266000]\n",
    "df20 = goodreads_df.iloc[266000:]"
   ]
  },
  {
   "cell_type": "code",
   "execution_count": 68,
   "id": "d1df3bdf",
   "metadata": {},
   "outputs": [],
   "source": [
    "from nltk.corpus import stopwords\n",
    "from nltk.tokenize import word_tokenize\n",
    "from nltk.util import ngrams, bigrams, trigrams"
   ]
  },
  {
   "cell_type": "code",
   "execution_count": null,
   "id": "fcbb1366",
   "metadata": {},
   "outputs": [],
   "source": [
    "# goodreads_df[\"review_text\"] = goodreads_df[\"review_text\"].apply(nltk.word_tokenize)\n",
    "# goodreads_df.head()"
   ]
  },
  {
   "cell_type": "code",
   "execution_count": 106,
   "id": "f4eda365",
   "metadata": {},
   "outputs": [],
   "source": [
    "review_text_df1 = df1['review_text']"
   ]
  },
  {
   "cell_type": "code",
   "execution_count": 121,
   "id": "4047b197",
   "metadata": {},
   "outputs": [
    {
     "name": "stderr",
     "output_type": "stream",
     "text": [
      "C:\\Users\\runek\\AppData\\Local\\Temp/ipykernel_12552/1020753775.py:1: SettingWithCopyWarning: \n",
      "A value is trying to be set on a copy of a slice from a DataFrame.\n",
      "Try using .loc[row_indexer,col_indexer] = value instead\n",
      "\n",
      "See the caveats in the documentation: https://pandas.pydata.org/pandas-docs/stable/user_guide/indexing.html#returning-a-view-versus-a-copy\n",
      "  df1['string_review_text'] = [','.join(map(str, l)) for l in df1['review_text']]\n"
     ]
    },
    {
     "data": {
      "text/html": [
       "<div>\n",
       "<style scoped>\n",
       "    .dataframe tbody tr th:only-of-type {\n",
       "        vertical-align: middle;\n",
       "    }\n",
       "\n",
       "    .dataframe tbody tr th {\n",
       "        vertical-align: top;\n",
       "    }\n",
       "\n",
       "    .dataframe thead th {\n",
       "        text-align: right;\n",
       "    }\n",
       "</style>\n",
       "<table border=\"1\" class=\"dataframe\">\n",
       "  <thead>\n",
       "    <tr style=\"text-align: right;\">\n",
       "      <th></th>\n",
       "      <th>user_id</th>\n",
       "      <th>book_id</th>\n",
       "      <th>review_id</th>\n",
       "      <th>rating</th>\n",
       "      <th>review_text</th>\n",
       "      <th>date_added</th>\n",
       "      <th>date_updated</th>\n",
       "      <th>read_at</th>\n",
       "      <th>started_at</th>\n",
       "      <th>n_votes</th>\n",
       "      <th>n_comments</th>\n",
       "      <th>positive_words</th>\n",
       "      <th>negative_words</th>\n",
       "      <th>overall</th>\n",
       "      <th>string_review_text</th>\n",
       "    </tr>\n",
       "  </thead>\n",
       "  <tbody>\n",
       "    <tr>\n",
       "      <th>0</th>\n",
       "      <td>8842281e1d1347389f2ab93d60773d4d</td>\n",
       "      <td>18245960</td>\n",
       "      <td>dfdbb7b0eb5a7e4c26d59a937e2e5feb</td>\n",
       "      <td>5</td>\n",
       "      <td>[This, is, a, special, book, ., It, started, s...</td>\n",
       "      <td>Sun Jul 30 07:44:10 -0700 2017</td>\n",
       "      <td>Wed Aug 30 00:00:26 -0700 2017</td>\n",
       "      <td>Sat Aug 26 12:05:52 -0700 2017</td>\n",
       "      <td>Tue Aug 15 13:23:18 -0700 2017</td>\n",
       "      <td>28</td>\n",
       "      <td>1</td>\n",
       "      <td>1</td>\n",
       "      <td>0</td>\n",
       "      <td>positive</td>\n",
       "      <td>This,is,a,special,book,.,It,started,slow,for,a...</td>\n",
       "    </tr>\n",
       "    <tr>\n",
       "      <th>2</th>\n",
       "      <td>8842281e1d1347389f2ab93d60773d4d</td>\n",
       "      <td>28684704</td>\n",
       "      <td>2ede853b14dc4583f96cf5d120af636f</td>\n",
       "      <td>3</td>\n",
       "      <td>[A, fun, ,, fast, paced, science, fiction, thr...</td>\n",
       "      <td>Tue Nov 15 11:29:22 -0800 2016</td>\n",
       "      <td>Mon Mar 20 23:40:27 -0700 2017</td>\n",
       "      <td>Sat Mar 18 23:22:42 -0700 2017</td>\n",
       "      <td>Fri Mar 17 23:45:40 -0700 2017</td>\n",
       "      <td>22</td>\n",
       "      <td>0</td>\n",
       "      <td>0</td>\n",
       "      <td>0</td>\n",
       "      <td>neutral</td>\n",
       "      <td>A,fun,,,fast,paced,science,fiction,thriller,.,...</td>\n",
       "    </tr>\n",
       "    <tr>\n",
       "      <th>4</th>\n",
       "      <td>8842281e1d1347389f2ab93d60773d4d</td>\n",
       "      <td>25884323</td>\n",
       "      <td>332732725863131279a8e345b63ac33e</td>\n",
       "      <td>4</td>\n",
       "      <td>[I, really, enjoyed, this, book, ,, and, there...</td>\n",
       "      <td>Mon Apr 25 09:31:23 -0700 2016</td>\n",
       "      <td>Mon Apr 25 09:31:23 -0700 2016</td>\n",
       "      <td>Sun Jun 26 00:00:00 -0700 2016</td>\n",
       "      <td>Sat May 28 00:00:00 -0700 2016</td>\n",
       "      <td>9</td>\n",
       "      <td>1</td>\n",
       "      <td>1</td>\n",
       "      <td>0</td>\n",
       "      <td>positive</td>\n",
       "      <td>I,really,enjoyed,this,book,,,and,there,is,a,lo...</td>\n",
       "    </tr>\n",
       "    <tr>\n",
       "      <th>5</th>\n",
       "      <td>8842281e1d1347389f2ab93d60773d4d</td>\n",
       "      <td>19398490</td>\n",
       "      <td>ea4a220b10e6b5c796dae0e3b970aff1</td>\n",
       "      <td>4</td>\n",
       "      <td>[A, beautiful, story, ., It, is, rare, to, enc...</td>\n",
       "      <td>Sun Jan 03 21:20:46 -0800 2016</td>\n",
       "      <td>Tue Sep 20 23:30:15 -0700 2016</td>\n",
       "      <td>Tue Sep 13 11:51:51 -0700 2016</td>\n",
       "      <td>Sat Aug 20 07:03:03 -0700 2016</td>\n",
       "      <td>35</td>\n",
       "      <td>5</td>\n",
       "      <td>2</td>\n",
       "      <td>0</td>\n",
       "      <td>positive</td>\n",
       "      <td>A,beautiful,story,.,It,is,rare,to,encounter,a,...</td>\n",
       "    </tr>\n",
       "    <tr>\n",
       "      <th>6</th>\n",
       "      <td>8842281e1d1347389f2ab93d60773d4d</td>\n",
       "      <td>22318578</td>\n",
       "      <td>5fe9882bfe4b0520a322820c4c55747d</td>\n",
       "      <td>5</td>\n",
       "      <td>[5, stars, for, giving, me, a, better, framewo...</td>\n",
       "      <td>Sun Jun 07 12:50:13 -0700 2015</td>\n",
       "      <td>Wed Mar 22 11:36:58 -0700 2017</td>\n",
       "      <td>Sun Aug 09 00:00:00 -0700 2015</td>\n",
       "      <td>Sun Jun 07 00:00:00 -0700 2015</td>\n",
       "      <td>24</td>\n",
       "      <td>3</td>\n",
       "      <td>0</td>\n",
       "      <td>0</td>\n",
       "      <td>neutral</td>\n",
       "      <td>5,stars,for,giving,me,a,better,framework,for,h...</td>\n",
       "    </tr>\n",
       "    <tr>\n",
       "      <th>...</th>\n",
       "      <td>...</td>\n",
       "      <td>...</td>\n",
       "      <td>...</td>\n",
       "      <td>...</td>\n",
       "      <td>...</td>\n",
       "      <td>...</td>\n",
       "      <td>...</td>\n",
       "      <td>...</td>\n",
       "      <td>...</td>\n",
       "      <td>...</td>\n",
       "      <td>...</td>\n",
       "      <td>...</td>\n",
       "      <td>...</td>\n",
       "      <td>...</td>\n",
       "      <td>...</td>\n",
       "    </tr>\n",
       "    <tr>\n",
       "      <th>22494</th>\n",
       "      <td>0223a9592bfaf2edce5a348a293c254b</td>\n",
       "      <td>29068220</td>\n",
       "      <td>d0dc4a4d9eadedaad8bad974ddffbece</td>\n",
       "      <td>5</td>\n",
       "      <td>[ARC, provided, by, publisher, in, exchange, f...</td>\n",
       "      <td>Wed Jul 27 20:19:03 -0700 2016</td>\n",
       "      <td>Tue Aug 09 09:04:15 -0700 2016</td>\n",
       "      <td>Sat Jul 30 00:00:00 -0700 2016</td>\n",
       "      <td>Sat Jul 30 00:00:00 -0700 2016</td>\n",
       "      <td>36</td>\n",
       "      <td>8</td>\n",
       "      <td>3</td>\n",
       "      <td>1</td>\n",
       "      <td>positive</td>\n",
       "      <td>ARC,provided,by,publisher,in,exchange,for,an,h...</td>\n",
       "    </tr>\n",
       "    <tr>\n",
       "      <th>22496</th>\n",
       "      <td>0223a9592bfaf2edce5a348a293c254b</td>\n",
       "      <td>25296512</td>\n",
       "      <td>64827a026e193ef945e9871a8eea1acc</td>\n",
       "      <td>5</td>\n",
       "      <td>[ARC, provided, by, author, in, exchange, for,...</td>\n",
       "      <td>Sun Jul 24 21:53:17 -0700 2016</td>\n",
       "      <td>Mon Jul 25 20:27:53 -0700 2016</td>\n",
       "      <td>Mon Jul 25 00:00:00 -0700 2016</td>\n",
       "      <td>Sun Jul 24 00:00:00 -0700 2016</td>\n",
       "      <td>37</td>\n",
       "      <td>8</td>\n",
       "      <td>0</td>\n",
       "      <td>0</td>\n",
       "      <td>neutral</td>\n",
       "      <td>ARC,provided,by,author,in,exchange,for,an,hone...</td>\n",
       "    </tr>\n",
       "    <tr>\n",
       "      <th>22499</th>\n",
       "      <td>0223a9592bfaf2edce5a348a293c254b</td>\n",
       "      <td>30936989</td>\n",
       "      <td>c32a1c951f3412cbf9ca3ecc4f382382</td>\n",
       "      <td>4</td>\n",
       "      <td>[ARC, provided, by, author, in, exchange, for,...</td>\n",
       "      <td>Mon Jul 18 20:14:06 -0700 2016</td>\n",
       "      <td>Tue Jul 19 13:42:18 -0700 2016</td>\n",
       "      <td>Tue Jul 19 14:36:28 -0700 2016</td>\n",
       "      <td>Tue Jul 19 00:00:00 -0700 2016</td>\n",
       "      <td>6</td>\n",
       "      <td>0</td>\n",
       "      <td>0</td>\n",
       "      <td>0</td>\n",
       "      <td>neutral</td>\n",
       "      <td>ARC,provided,by,author,in,exchange,for,an,hone...</td>\n",
       "    </tr>\n",
       "    <tr>\n",
       "      <th>22500</th>\n",
       "      <td>0223a9592bfaf2edce5a348a293c254b</td>\n",
       "      <td>30304059</td>\n",
       "      <td>d8b2f4b901de991e6dd290b5c4902a63</td>\n",
       "      <td>5</td>\n",
       "      <td>[ARC, provided, by, author, in, exchange, for,...</td>\n",
       "      <td>Sat Jul 16 09:52:37 -0700 2016</td>\n",
       "      <td>Tue Jul 19 09:14:27 -0700 2016</td>\n",
       "      <td>Mon Jul 18 00:00:00 -0700 2016</td>\n",
       "      <td>Sat Jul 16 00:00:00 -0700 2016</td>\n",
       "      <td>35</td>\n",
       "      <td>11</td>\n",
       "      <td>0</td>\n",
       "      <td>0</td>\n",
       "      <td>neutral</td>\n",
       "      <td>ARC,provided,by,author,in,exchange,for,an,hone...</td>\n",
       "    </tr>\n",
       "    <tr>\n",
       "      <th>22502</th>\n",
       "      <td>0223a9592bfaf2edce5a348a293c254b</td>\n",
       "      <td>30340138</td>\n",
       "      <td>0548fd686573b48f2198fa6962c4ec25</td>\n",
       "      <td>4</td>\n",
       "      <td>[ARC, provided, by, author, in, exchange, for,...</td>\n",
       "      <td>Tue Jul 12 23:13:35 -0700 2016</td>\n",
       "      <td>Thu Jul 14 00:45:14 -0700 2016</td>\n",
       "      <td>Wed Jul 13 00:00:00 -0700 2016</td>\n",
       "      <td>Wed Jul 13 00:00:00 -0700 2016</td>\n",
       "      <td>22</td>\n",
       "      <td>2</td>\n",
       "      <td>1</td>\n",
       "      <td>0</td>\n",
       "      <td>positive</td>\n",
       "      <td>ARC,provided,by,author,in,exchange,for,an,hone...</td>\n",
       "    </tr>\n",
       "  </tbody>\n",
       "</table>\n",
       "<p>14000 rows × 15 columns</p>\n",
       "</div>"
      ],
      "text/plain": [
       "                                user_id   book_id  \\\n",
       "0      8842281e1d1347389f2ab93d60773d4d  18245960   \n",
       "2      8842281e1d1347389f2ab93d60773d4d  28684704   \n",
       "4      8842281e1d1347389f2ab93d60773d4d  25884323   \n",
       "5      8842281e1d1347389f2ab93d60773d4d  19398490   \n",
       "6      8842281e1d1347389f2ab93d60773d4d  22318578   \n",
       "...                                 ...       ...   \n",
       "22494  0223a9592bfaf2edce5a348a293c254b  29068220   \n",
       "22496  0223a9592bfaf2edce5a348a293c254b  25296512   \n",
       "22499  0223a9592bfaf2edce5a348a293c254b  30936989   \n",
       "22500  0223a9592bfaf2edce5a348a293c254b  30304059   \n",
       "22502  0223a9592bfaf2edce5a348a293c254b  30340138   \n",
       "\n",
       "                              review_id  rating  \\\n",
       "0      dfdbb7b0eb5a7e4c26d59a937e2e5feb       5   \n",
       "2      2ede853b14dc4583f96cf5d120af636f       3   \n",
       "4      332732725863131279a8e345b63ac33e       4   \n",
       "5      ea4a220b10e6b5c796dae0e3b970aff1       4   \n",
       "6      5fe9882bfe4b0520a322820c4c55747d       5   \n",
       "...                                 ...     ...   \n",
       "22494  d0dc4a4d9eadedaad8bad974ddffbece       5   \n",
       "22496  64827a026e193ef945e9871a8eea1acc       5   \n",
       "22499  c32a1c951f3412cbf9ca3ecc4f382382       4   \n",
       "22500  d8b2f4b901de991e6dd290b5c4902a63       5   \n",
       "22502  0548fd686573b48f2198fa6962c4ec25       4   \n",
       "\n",
       "                                             review_text  \\\n",
       "0      [This, is, a, special, book, ., It, started, s...   \n",
       "2      [A, fun, ,, fast, paced, science, fiction, thr...   \n",
       "4      [I, really, enjoyed, this, book, ,, and, there...   \n",
       "5      [A, beautiful, story, ., It, is, rare, to, enc...   \n",
       "6      [5, stars, for, giving, me, a, better, framewo...   \n",
       "...                                                  ...   \n",
       "22494  [ARC, provided, by, publisher, in, exchange, f...   \n",
       "22496  [ARC, provided, by, author, in, exchange, for,...   \n",
       "22499  [ARC, provided, by, author, in, exchange, for,...   \n",
       "22500  [ARC, provided, by, author, in, exchange, for,...   \n",
       "22502  [ARC, provided, by, author, in, exchange, for,...   \n",
       "\n",
       "                           date_added                    date_updated  \\\n",
       "0      Sun Jul 30 07:44:10 -0700 2017  Wed Aug 30 00:00:26 -0700 2017   \n",
       "2      Tue Nov 15 11:29:22 -0800 2016  Mon Mar 20 23:40:27 -0700 2017   \n",
       "4      Mon Apr 25 09:31:23 -0700 2016  Mon Apr 25 09:31:23 -0700 2016   \n",
       "5      Sun Jan 03 21:20:46 -0800 2016  Tue Sep 20 23:30:15 -0700 2016   \n",
       "6      Sun Jun 07 12:50:13 -0700 2015  Wed Mar 22 11:36:58 -0700 2017   \n",
       "...                               ...                             ...   \n",
       "22494  Wed Jul 27 20:19:03 -0700 2016  Tue Aug 09 09:04:15 -0700 2016   \n",
       "22496  Sun Jul 24 21:53:17 -0700 2016  Mon Jul 25 20:27:53 -0700 2016   \n",
       "22499  Mon Jul 18 20:14:06 -0700 2016  Tue Jul 19 13:42:18 -0700 2016   \n",
       "22500  Sat Jul 16 09:52:37 -0700 2016  Tue Jul 19 09:14:27 -0700 2016   \n",
       "22502  Tue Jul 12 23:13:35 -0700 2016  Thu Jul 14 00:45:14 -0700 2016   \n",
       "\n",
       "                              read_at                      started_at  \\\n",
       "0      Sat Aug 26 12:05:52 -0700 2017  Tue Aug 15 13:23:18 -0700 2017   \n",
       "2      Sat Mar 18 23:22:42 -0700 2017  Fri Mar 17 23:45:40 -0700 2017   \n",
       "4      Sun Jun 26 00:00:00 -0700 2016  Sat May 28 00:00:00 -0700 2016   \n",
       "5      Tue Sep 13 11:51:51 -0700 2016  Sat Aug 20 07:03:03 -0700 2016   \n",
       "6      Sun Aug 09 00:00:00 -0700 2015  Sun Jun 07 00:00:00 -0700 2015   \n",
       "...                               ...                             ...   \n",
       "22494  Sat Jul 30 00:00:00 -0700 2016  Sat Jul 30 00:00:00 -0700 2016   \n",
       "22496  Mon Jul 25 00:00:00 -0700 2016  Sun Jul 24 00:00:00 -0700 2016   \n",
       "22499  Tue Jul 19 14:36:28 -0700 2016  Tue Jul 19 00:00:00 -0700 2016   \n",
       "22500  Mon Jul 18 00:00:00 -0700 2016  Sat Jul 16 00:00:00 -0700 2016   \n",
       "22502  Wed Jul 13 00:00:00 -0700 2016  Wed Jul 13 00:00:00 -0700 2016   \n",
       "\n",
       "       n_votes  n_comments  positive_words  negative_words   overall  \\\n",
       "0           28           1               1               0  positive   \n",
       "2           22           0               0               0   neutral   \n",
       "4            9           1               1               0  positive   \n",
       "5           35           5               2               0  positive   \n",
       "6           24           3               0               0   neutral   \n",
       "...        ...         ...             ...             ...       ...   \n",
       "22494       36           8               3               1  positive   \n",
       "22496       37           8               0               0   neutral   \n",
       "22499        6           0               0               0   neutral   \n",
       "22500       35          11               0               0   neutral   \n",
       "22502       22           2               1               0  positive   \n",
       "\n",
       "                                      string_review_text  \n",
       "0      This,is,a,special,book,.,It,started,slow,for,a...  \n",
       "2      A,fun,,,fast,paced,science,fiction,thriller,.,...  \n",
       "4      I,really,enjoyed,this,book,,,and,there,is,a,lo...  \n",
       "5      A,beautiful,story,.,It,is,rare,to,encounter,a,...  \n",
       "6      5,stars,for,giving,me,a,better,framework,for,h...  \n",
       "...                                                  ...  \n",
       "22494  ARC,provided,by,publisher,in,exchange,for,an,h...  \n",
       "22496  ARC,provided,by,author,in,exchange,for,an,hone...  \n",
       "22499  ARC,provided,by,author,in,exchange,for,an,hone...  \n",
       "22500  ARC,provided,by,author,in,exchange,for,an,hone...  \n",
       "22502  ARC,provided,by,author,in,exchange,for,an,hone...  \n",
       "\n",
       "[14000 rows x 15 columns]"
      ]
     },
     "execution_count": 121,
     "metadata": {},
     "output_type": "execute_result"
    }
   ],
   "source": [
    "df1['string_review_text'] = [','.join(map(str, l)) for l in df1['review_text']]\n",
    "df1"
   ]
  },
  {
   "cell_type": "code",
   "execution_count": 118,
   "id": "cec1dac0",
   "metadata": {},
   "outputs": [],
   "source": [
    "# goodreads_df['liststring'] = [','.join(map(str, l)) for l in goodreads_df['review_text']]\n",
    "# goodreads_df.head()"
   ]
  },
  {
   "cell_type": "code",
   "execution_count": null,
   "id": "a2bdbf50",
   "metadata": {},
   "outputs": [],
   "source": []
  },
  {
   "cell_type": "code",
   "execution_count": null,
   "id": "b003eb4d",
   "metadata": {},
   "outputs": [],
   "source": []
  },
  {
   "cell_type": "code",
   "execution_count": null,
   "id": "3e98c5ec",
   "metadata": {},
   "outputs": [],
   "source": []
  },
  {
   "cell_type": "code",
   "execution_count": 112,
   "id": "0970e292",
   "metadata": {},
   "outputs": [],
   "source": [
    "# tokenText_df1 = review_text_df1.apply(word_tokenize)"
   ]
  },
  {
   "cell_type": "code",
   "execution_count": 122,
   "id": "8e3881e1",
   "metadata": {},
   "outputs": [
    {
     "ename": "KeyboardInterrupt",
     "evalue": "",
     "output_type": "error",
     "traceback": [
      "\u001b[1;31m---------------------------------------------------------------------------\u001b[0m",
      "\u001b[1;31mKeyboardInterrupt\u001b[0m                         Traceback (most recent call last)",
      "\u001b[1;32m~\\AppData\\Local\\Temp/ipykernel_12552/3383949805.py\u001b[0m in \u001b[0;36m<module>\u001b[1;34m\u001b[0m\n\u001b[1;32m----> 1\u001b[1;33m \u001b[0mreview_text_df1\u001b[0m \u001b[1;33m=\u001b[0m \u001b[0mdf1\u001b[0m\u001b[1;33m[\u001b[0m\u001b[1;34m\"string_review_text\"\u001b[0m\u001b[1;33m]\u001b[0m\u001b[1;33m.\u001b[0m\u001b[0mapply\u001b[0m\u001b[1;33m(\u001b[0m\u001b[0mnltk\u001b[0m\u001b[1;33m.\u001b[0m\u001b[0mword_tokenize\u001b[0m\u001b[1;33m)\u001b[0m\u001b[1;33m\u001b[0m\u001b[1;33m\u001b[0m\u001b[0m\n\u001b[0m",
      "\u001b[1;32m~\\anaconda3\\lib\\site-packages\\pandas\\core\\series.py\u001b[0m in \u001b[0;36mapply\u001b[1;34m(self, func, convert_dtype, args, **kwds)\u001b[0m\n\u001b[0;32m   4106\u001b[0m             \u001b[1;32melse\u001b[0m\u001b[1;33m:\u001b[0m\u001b[1;33m\u001b[0m\u001b[1;33m\u001b[0m\u001b[0m\n\u001b[0;32m   4107\u001b[0m                 \u001b[0mvalues\u001b[0m \u001b[1;33m=\u001b[0m \u001b[0mself\u001b[0m\u001b[1;33m.\u001b[0m\u001b[0mastype\u001b[0m\u001b[1;33m(\u001b[0m\u001b[0mobject\u001b[0m\u001b[1;33m)\u001b[0m\u001b[1;33m.\u001b[0m\u001b[0m_values\u001b[0m\u001b[1;33m\u001b[0m\u001b[1;33m\u001b[0m\u001b[0m\n\u001b[1;32m-> 4108\u001b[1;33m                 \u001b[0mmapped\u001b[0m \u001b[1;33m=\u001b[0m \u001b[0mlib\u001b[0m\u001b[1;33m.\u001b[0m\u001b[0mmap_infer\u001b[0m\u001b[1;33m(\u001b[0m\u001b[0mvalues\u001b[0m\u001b[1;33m,\u001b[0m \u001b[0mf\u001b[0m\u001b[1;33m,\u001b[0m \u001b[0mconvert\u001b[0m\u001b[1;33m=\u001b[0m\u001b[0mconvert_dtype\u001b[0m\u001b[1;33m)\u001b[0m\u001b[1;33m\u001b[0m\u001b[1;33m\u001b[0m\u001b[0m\n\u001b[0m\u001b[0;32m   4109\u001b[0m \u001b[1;33m\u001b[0m\u001b[0m\n\u001b[0;32m   4110\u001b[0m         \u001b[1;32mif\u001b[0m \u001b[0mlen\u001b[0m\u001b[1;33m(\u001b[0m\u001b[0mmapped\u001b[0m\u001b[1;33m)\u001b[0m \u001b[1;32mand\u001b[0m \u001b[0misinstance\u001b[0m\u001b[1;33m(\u001b[0m\u001b[0mmapped\u001b[0m\u001b[1;33m[\u001b[0m\u001b[1;36m0\u001b[0m\u001b[1;33m]\u001b[0m\u001b[1;33m,\u001b[0m \u001b[0mSeries\u001b[0m\u001b[1;33m)\u001b[0m\u001b[1;33m:\u001b[0m\u001b[1;33m\u001b[0m\u001b[1;33m\u001b[0m\u001b[0m\n",
      "\u001b[1;32mpandas\\_libs\\lib.pyx\u001b[0m in \u001b[0;36mpandas._libs.lib.map_infer\u001b[1;34m()\u001b[0m\n",
      "\u001b[1;32m~\\anaconda3\\lib\\site-packages\\nltk\\tokenize\\__init__.py\u001b[0m in \u001b[0;36mword_tokenize\u001b[1;34m(text, language, preserve_line)\u001b[0m\n\u001b[0;32m    128\u001b[0m     \"\"\"\n\u001b[0;32m    129\u001b[0m     \u001b[0msentences\u001b[0m \u001b[1;33m=\u001b[0m \u001b[1;33m[\u001b[0m\u001b[0mtext\u001b[0m\u001b[1;33m]\u001b[0m \u001b[1;32mif\u001b[0m \u001b[0mpreserve_line\u001b[0m \u001b[1;32melse\u001b[0m \u001b[0msent_tokenize\u001b[0m\u001b[1;33m(\u001b[0m\u001b[0mtext\u001b[0m\u001b[1;33m,\u001b[0m \u001b[0mlanguage\u001b[0m\u001b[1;33m)\u001b[0m\u001b[1;33m\u001b[0m\u001b[1;33m\u001b[0m\u001b[0m\n\u001b[1;32m--> 130\u001b[1;33m     return [\n\u001b[0m\u001b[0;32m    131\u001b[0m         \u001b[0mtoken\u001b[0m \u001b[1;32mfor\u001b[0m \u001b[0msent\u001b[0m \u001b[1;32min\u001b[0m \u001b[0msentences\u001b[0m \u001b[1;32mfor\u001b[0m \u001b[0mtoken\u001b[0m \u001b[1;32min\u001b[0m \u001b[0m_treebank_word_tokenizer\u001b[0m\u001b[1;33m.\u001b[0m\u001b[0mtokenize\u001b[0m\u001b[1;33m(\u001b[0m\u001b[0msent\u001b[0m\u001b[1;33m)\u001b[0m\u001b[1;33m\u001b[0m\u001b[1;33m\u001b[0m\u001b[0m\n\u001b[0;32m    132\u001b[0m     ]\n",
      "\u001b[1;32m~\\anaconda3\\lib\\site-packages\\nltk\\tokenize\\__init__.py\u001b[0m in \u001b[0;36m<listcomp>\u001b[1;34m(.0)\u001b[0m\n\u001b[0;32m    129\u001b[0m     \u001b[0msentences\u001b[0m \u001b[1;33m=\u001b[0m \u001b[1;33m[\u001b[0m\u001b[0mtext\u001b[0m\u001b[1;33m]\u001b[0m \u001b[1;32mif\u001b[0m \u001b[0mpreserve_line\u001b[0m \u001b[1;32melse\u001b[0m \u001b[0msent_tokenize\u001b[0m\u001b[1;33m(\u001b[0m\u001b[0mtext\u001b[0m\u001b[1;33m,\u001b[0m \u001b[0mlanguage\u001b[0m\u001b[1;33m)\u001b[0m\u001b[1;33m\u001b[0m\u001b[1;33m\u001b[0m\u001b[0m\n\u001b[0;32m    130\u001b[0m     return [\n\u001b[1;32m--> 131\u001b[1;33m         \u001b[0mtoken\u001b[0m \u001b[1;32mfor\u001b[0m \u001b[0msent\u001b[0m \u001b[1;32min\u001b[0m \u001b[0msentences\u001b[0m \u001b[1;32mfor\u001b[0m \u001b[0mtoken\u001b[0m \u001b[1;32min\u001b[0m \u001b[0m_treebank_word_tokenizer\u001b[0m\u001b[1;33m.\u001b[0m\u001b[0mtokenize\u001b[0m\u001b[1;33m(\u001b[0m\u001b[0msent\u001b[0m\u001b[1;33m)\u001b[0m\u001b[1;33m\u001b[0m\u001b[1;33m\u001b[0m\u001b[0m\n\u001b[0m\u001b[0;32m    132\u001b[0m     ]\n",
      "\u001b[1;32m~\\anaconda3\\lib\\site-packages\\nltk\\tokenize\\destructive.py\u001b[0m in \u001b[0;36mtokenize\u001b[1;34m(self, text, convert_parentheses, return_str)\u001b[0m\n\u001b[0;32m    116\u001b[0m \u001b[1;33m\u001b[0m\u001b[0m\n\u001b[0;32m    117\u001b[0m         \u001b[1;32mfor\u001b[0m \u001b[0mregexp\u001b[0m\u001b[1;33m,\u001b[0m \u001b[0msubstitution\u001b[0m \u001b[1;32min\u001b[0m \u001b[0mself\u001b[0m\u001b[1;33m.\u001b[0m\u001b[0mPUNCTUATION\u001b[0m\u001b[1;33m:\u001b[0m\u001b[1;33m\u001b[0m\u001b[1;33m\u001b[0m\u001b[0m\n\u001b[1;32m--> 118\u001b[1;33m             \u001b[0mtext\u001b[0m \u001b[1;33m=\u001b[0m \u001b[0mregexp\u001b[0m\u001b[1;33m.\u001b[0m\u001b[0msub\u001b[0m\u001b[1;33m(\u001b[0m\u001b[0msubstitution\u001b[0m\u001b[1;33m,\u001b[0m \u001b[0mtext\u001b[0m\u001b[1;33m)\u001b[0m\u001b[1;33m\u001b[0m\u001b[1;33m\u001b[0m\u001b[0m\n\u001b[0m\u001b[0;32m    119\u001b[0m \u001b[1;33m\u001b[0m\u001b[0m\n\u001b[0;32m    120\u001b[0m         \u001b[1;31m# Handles parentheses.\u001b[0m\u001b[1;33m\u001b[0m\u001b[1;33m\u001b[0m\u001b[0m\n",
      "\u001b[1;32m~\\anaconda3\\lib\\re.py\u001b[0m in \u001b[0;36mfilter\u001b[1;34m(match, template)\u001b[0m\n\u001b[0;32m    330\u001b[0m         \u001b[1;32mreturn\u001b[0m \u001b[0mtemplate\u001b[0m\u001b[1;33m[\u001b[0m\u001b[1;36m1\u001b[0m\u001b[1;33m]\u001b[0m\u001b[1;33m[\u001b[0m\u001b[1;36m0\u001b[0m\u001b[1;33m]\u001b[0m\u001b[1;33m\u001b[0m\u001b[1;33m\u001b[0m\u001b[0m\n\u001b[0;32m    331\u001b[0m     \u001b[1;32mdef\u001b[0m \u001b[0mfilter\u001b[0m\u001b[1;33m(\u001b[0m\u001b[0mmatch\u001b[0m\u001b[1;33m,\u001b[0m \u001b[0mtemplate\u001b[0m\u001b[1;33m=\u001b[0m\u001b[0mtemplate\u001b[0m\u001b[1;33m)\u001b[0m\u001b[1;33m:\u001b[0m\u001b[1;33m\u001b[0m\u001b[1;33m\u001b[0m\u001b[0m\n\u001b[1;32m--> 332\u001b[1;33m         \u001b[1;32mreturn\u001b[0m \u001b[0msre_parse\u001b[0m\u001b[1;33m.\u001b[0m\u001b[0mexpand_template\u001b[0m\u001b[1;33m(\u001b[0m\u001b[0mtemplate\u001b[0m\u001b[1;33m,\u001b[0m \u001b[0mmatch\u001b[0m\u001b[1;33m)\u001b[0m\u001b[1;33m\u001b[0m\u001b[1;33m\u001b[0m\u001b[0m\n\u001b[0m\u001b[0;32m    333\u001b[0m     \u001b[1;32mreturn\u001b[0m \u001b[0mfilter\u001b[0m\u001b[1;33m\u001b[0m\u001b[1;33m\u001b[0m\u001b[0m\n\u001b[0;32m    334\u001b[0m \u001b[1;33m\u001b[0m\u001b[0m\n",
      "\u001b[1;31mKeyboardInterrupt\u001b[0m: "
     ]
    }
   ],
   "source": [
    "review_text_df1 = df1[\"string_review_text\"].apply(nltk.word_tokenize)"
   ]
  },
  {
   "cell_type": "code",
   "execution_count": null,
   "id": "e1b08fd2",
   "metadata": {},
   "outputs": [],
   "source": []
  },
  {
   "cell_type": "code",
   "execution_count": null,
   "id": "4b58ff24",
   "metadata": {},
   "outputs": [],
   "source": []
  },
  {
   "cell_type": "code",
   "execution_count": 123,
   "id": "248b6c38",
   "metadata": {},
   "outputs": [
    {
     "data": {
      "text/plain": [
       "[('Actual,rating,-,3.5', 37),\n",
       " ('Review,to,come,.', 23),\n",
       " ('You,can,find,this,review,,,and,many,others,,,on,my,blog,.', 12),\n",
       " ('RTC,.', 11),\n",
       " ('Check,out,my,review,@,Witch,Plus,Cat', 9),\n",
       " ('Listened,to,audiobook,.', 8),\n",
       " ('Review,coming,soon,.', 6),\n",
       " ('Check,out,my,review,@,booksteaandcake.blogspot.com.au', 6),\n",
       " ('3.5,stars,Listened,to,audiobook,.', 4),\n",
       " ('See,the,first,book,in,the,series,for,my,review,.', 4)]"
      ]
     },
     "execution_count": 123,
     "metadata": {},
     "output_type": "execute_result"
    }
   ],
   "source": [
    "from collections import Counter\n",
    "Counter(\" \".join(df1['string_review_text']).split()).most_common(10)"
   ]
  },
  {
   "cell_type": "code",
   "execution_count": null,
   "id": "53fb6bb9",
   "metadata": {},
   "outputs": [],
   "source": []
  },
  {
   "cell_type": "code",
   "execution_count": null,
   "id": "bdb42c42",
   "metadata": {},
   "outputs": [],
   "source": []
  },
  {
   "cell_type": "code",
   "execution_count": null,
   "id": "afde0d90",
   "metadata": {},
   "outputs": [],
   "source": []
  },
  {
   "cell_type": "code",
   "execution_count": null,
   "id": "7ba2f805",
   "metadata": {},
   "outputs": [],
   "source": []
  },
  {
   "cell_type": "code",
   "execution_count": null,
   "id": "c5e1b37a",
   "metadata": {},
   "outputs": [],
   "source": []
  },
  {
   "cell_type": "code",
   "execution_count": null,
   "id": "666e5c2a",
   "metadata": {},
   "outputs": [],
   "source": []
  },
  {
   "cell_type": "code",
   "execution_count": null,
   "id": "d09012c3",
   "metadata": {},
   "outputs": [],
   "source": []
  },
  {
   "cell_type": "code",
   "execution_count": null,
   "id": "6906e1aa",
   "metadata": {},
   "outputs": [],
   "source": []
  },
  {
   "cell_type": "code",
   "execution_count": null,
   "id": "a9c8b2d3",
   "metadata": {},
   "outputs": [],
   "source": []
  },
  {
   "cell_type": "code",
   "execution_count": null,
   "id": "c0ad3bd7",
   "metadata": {},
   "outputs": [],
   "source": []
  },
  {
   "cell_type": "code",
   "execution_count": 15,
   "id": "3f0c8ba6",
   "metadata": {},
   "outputs": [],
   "source": [
    "# Take book_id, n_votes, n_comments, and rating. Invesitagte whether the number of votes and comments can predict rating.\n",
    "\n",
    "goodreads_comments = goodreads_df.drop(columns = ['user_id', 'review_id', 'review_text', 'date_added', 'date_updated', 'read_at',\n",
    "                                                 'started_at'])"
   ]
  },
  {
   "cell_type": "code",
   "execution_count": 16,
   "id": "d8efc2a7",
   "metadata": {},
   "outputs": [
    {
     "data": {
      "text/html": [
       "<div>\n",
       "<style scoped>\n",
       "    .dataframe tbody tr th:only-of-type {\n",
       "        vertical-align: middle;\n",
       "    }\n",
       "\n",
       "    .dataframe tbody tr th {\n",
       "        vertical-align: top;\n",
       "    }\n",
       "\n",
       "    .dataframe thead th {\n",
       "        text-align: right;\n",
       "    }\n",
       "</style>\n",
       "<table border=\"1\" class=\"dataframe\">\n",
       "  <thead>\n",
       "    <tr style=\"text-align: right;\">\n",
       "      <th></th>\n",
       "      <th>book_id</th>\n",
       "      <th>rating</th>\n",
       "      <th>n_votes</th>\n",
       "      <th>n_comments</th>\n",
       "    </tr>\n",
       "  </thead>\n",
       "  <tbody>\n",
       "    <tr>\n",
       "      <th>0</th>\n",
       "      <td>18245960</td>\n",
       "      <td>5</td>\n",
       "      <td>28</td>\n",
       "      <td>1</td>\n",
       "    </tr>\n",
       "    <tr>\n",
       "      <th>1</th>\n",
       "      <td>16981</td>\n",
       "      <td>3</td>\n",
       "      <td>1</td>\n",
       "      <td>0</td>\n",
       "    </tr>\n",
       "    <tr>\n",
       "      <th>2</th>\n",
       "      <td>28684704</td>\n",
       "      <td>3</td>\n",
       "      <td>22</td>\n",
       "      <td>0</td>\n",
       "    </tr>\n",
       "    <tr>\n",
       "      <th>3</th>\n",
       "      <td>27161156</td>\n",
       "      <td>0</td>\n",
       "      <td>5</td>\n",
       "      <td>1</td>\n",
       "    </tr>\n",
       "    <tr>\n",
       "      <th>4</th>\n",
       "      <td>25884323</td>\n",
       "      <td>4</td>\n",
       "      <td>9</td>\n",
       "      <td>1</td>\n",
       "    </tr>\n",
       "  </tbody>\n",
       "</table>\n",
       "</div>"
      ],
      "text/plain": [
       "    book_id  rating  n_votes  n_comments\n",
       "0  18245960       5       28           1\n",
       "1     16981       3        1           0\n",
       "2  28684704       3       22           0\n",
       "3  27161156       0        5           1\n",
       "4  25884323       4        9           1"
      ]
     },
     "execution_count": 16,
     "metadata": {},
     "output_type": "execute_result"
    }
   ],
   "source": [
    "goodreads_comments.head()"
   ]
  },
  {
   "cell_type": "code",
   "execution_count": null,
   "id": "b74f49e0",
   "metadata": {},
   "outputs": [],
   "source": []
  },
  {
   "cell_type": "code",
   "execution_count": null,
   "id": "f95cfda2",
   "metadata": {},
   "outputs": [],
   "source": []
  },
  {
   "cell_type": "code",
   "execution_count": null,
   "id": "cb544512",
   "metadata": {},
   "outputs": [],
   "source": []
  },
  {
   "cell_type": "code",
   "execution_count": null,
   "id": "18be1aef",
   "metadata": {},
   "outputs": [],
   "source": []
  },
  {
   "cell_type": "code",
   "execution_count": null,
   "id": "d38b7741",
   "metadata": {},
   "outputs": [],
   "source": []
  }
 ],
 "metadata": {
  "kernelspec": {
   "display_name": "Python 3 (ipykernel)",
   "language": "python",
   "name": "python3"
  },
  "language_info": {
   "codemirror_mode": {
    "name": "ipython",
    "version": 3
   },
   "file_extension": ".py",
   "mimetype": "text/x-python",
   "name": "python",
   "nbconvert_exporter": "python",
   "pygments_lexer": "ipython3",
   "version": "3.9.7"
  }
 },
 "nbformat": 4,
 "nbformat_minor": 5
}
